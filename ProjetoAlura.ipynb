{
  "nbformat": 4,
  "nbformat_minor": 0,
  "metadata": {
    "colab": {
      "provenance": [],
      "authorship_tag": "ABX9TyNAKVMgW/cVBKduUZbIsmYo",
      "include_colab_link": true
    },
    "kernelspec": {
      "name": "python3",
      "display_name": "Python 3"
    },
    "language_info": {
      "name": "python"
    }
  },
  "cells": [
    {
      "cell_type": "markdown",
      "metadata": {
        "id": "view-in-github",
        "colab_type": "text"
      },
      "source": [
        "<a href=\"https://colab.research.google.com/github/Solsa1/projetoalura/blob/main/ProjetoAlura.ipynb\" target=\"_parent\"><img src=\"https://colab.research.google.com/assets/colab-badge.svg\" alt=\"Open In Colab\"/></a>"
      ]
    },
    {
      "cell_type": "code",
      "execution_count": 1,
      "metadata": {
        "id": "XsI0aQ1LBNYw"
      },
      "outputs": [],
      "source": [
        "!pip install -U -q google-generativeai"
      ]
    },
    {
      "cell_type": "code",
      "source": [
        "from geopy.geocoders import GoogleV3\n",
        "import google.generativeai as genai\n",
        "from google.colab import userdata\n",
        "key = userdata.get('secreta')\n",
        "genai.configure(api_key=key)\n",
        "\n"
      ],
      "metadata": {
        "id": "a-EswBi_BrO2"
      },
      "execution_count": 5,
      "outputs": []
    },
    {
      "cell_type": "code",
      "source": [
        "config = {\n",
        "  \"candidate_count\": 1,\n",
        "  \"temperature\": 1,\n",
        "  \"top_k\": 10\n",
        "}\n",
        "seguranca = {\n",
        "    'HATE': 'BLOCK_NONE',\n",
        "    'HARASSMENT': 'BLOCK_NONE',\n",
        "    'SEXUAL' : 'BLOCK_NONE',\n",
        "    'DANGEROUS' : 'BLOCK_NONE'\n",
        "}\n",
        "\n",
        "model = genai.GenerativeModel(model_name='gemini-1.0-pro',\n",
        "                              generation_config = config,\n",
        "                              safety_settings = seguranca)"
      ],
      "metadata": {
        "id": "_X0IqWJFHPrs"
      },
      "execution_count": 11,
      "outputs": []
    },
    {
      "cell_type": "code",
      "source": [
        "chat = model.start_chat(history=[])\n",
        "\n",
        "prompt = input('DIGA SUA COMIDA PREFERIDA QUE O CHAT IRA DAR A RECEITA PARA FAZE-LA: ')\n",
        "\n",
        "while prompt != \"fim\":\n",
        "  response = chat.send_message(prompt)\n",
        "  print(\"Resposta:\", response.text, '\\n')\n",
        "  prompt = input('DIGITE OUTRA COMIDA OU FIM PARA ACABAR COM A ATIVIDADE ')\n"
      ],
      "metadata": {
        "colab": {
          "base_uri": "https://localhost:8080/",
          "height": 575
        },
        "collapsed": true,
        "id": "mb-LMbSFLuXf",
        "outputId": "57b5274c-b15e-46f3-d8f6-6efae631bb47"
      },
      "execution_count": 12,
      "outputs": [
        {
          "name": "stdout",
          "output_type": "stream",
          "text": [
            "DIGA SUA COMIDA PREFERIDA QUE O CHAT IRA DAR A RECEITA PARA FAZE-LApão\n",
            "Resposta: **Tipos de Pão**\n",
            "\n",
            "* **Pão Branco:** Feito com farinha branca refinada, é leve, macio e tem um sabor neutro.\n",
            "* **Pão Integral:** Feito com farinha de trigo integral, que retém o farelo, o germe e o endosperma, é rico em fibras e nutrientes.\n",
            "* **Pão de Centeio:** Feito com farinha de centeio, é denso, escuro e tem um sabor ligeiramente azedo.\n",
            "* **Pão Sourdough:** Fermentado naturalmente com massa mãe, é ácido, texturizado e tem uma longa vida útil.\n",
            "* **Pão Ciabatta:** Originário da Itália, é caracterizado por uma crosta crocante e um miolo macio e aerado.\n",
            "* **Pão Baguete:** Uma baguete francesa clássica, é longa, estreita e tem uma crosta crocante e um miolo macio.\n",
            "* **Pão Focaccia:** Um pão italiano de fermento, é achatado, coberto com azeite e ervas e tem uma textura macia e esponjosa.\n",
            "* **Pão Chalá:** Um pão trançado judeu tradicional, é rico e doce, feito com ovos, manteiga e mel.\n",
            "* **Pão de Banana:** Um pão rápido feito com purê de banana, farinha, açúcar e especiarias.\n",
            "* **Pão de Abóbora:** Um pão rápido feito com purê de abóbora, farinha, açúcar e especiarias.\n",
            "\n",
            "**Benefícios para a Saúde**\n",
            "\n",
            "* **Fonte de Carboidratos:** O pão fornece carboidratos, que são a principal fonte de energia do corpo.\n",
            "* **Rico em Fibras:** Os pães integrais e de centeio são ricos em fibras, o que promove a saciedade e a saúde intestinal.\n",
            "* **Fonte de Nutrientes:** Alguns pães são fortificados com nutrientes como ferro, vitamina D e ácido fólico.\n",
            "* **Suporta a Microbiota Intestinal:** O pão sourdough contém bactérias probióticas que podem beneficiar a saúde da microbiota intestinal.\n",
            "\n",
            "**Considerações Importantes**\n",
            "\n",
            "* **Alergias ao Trigo:** O pão feito com farinha de trigo contém glúten, que pode desencadear reações alérgicas em algumas pessoas.\n",
            "* **Índice Glicêmico:** O pão branco tem um índice glicêmico mais alto do que os pães integrais, o que pode causar picos no açúcar no sangue.\n",
            "* **Calorias:** O pão pode ser rico em calorias e deve ser consumido com moderação como parte de uma dieta equilibrada. \n",
            "\n",
            "DIGITE OUTRA COMIDA OU FIM PARA ACABAR COM A ATIVIDADE FIM\n",
            "Resposta: **FIM** \n",
            "\n",
            "DIGITE OUTRA COMIDA OU FIM PARA ACABAR COM A ATIVIDADE fim\n"
          ]
        }
      ]
    }
  ]
}